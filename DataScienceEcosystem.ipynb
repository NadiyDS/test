{
 "cells": [
  {
   "cell_type": "markdown",
   "id": "7db5f3c3-6a8e-489d-b3d1-a67b2d6fed61",
   "metadata": {},
   "source": [
    "# Data Science Tools and Ecosystem"
   ]
  },
  {
   "cell_type": "markdown",
   "id": "754c90ba-94ad-4ae2-ad9e-545541db51f0",
   "metadata": {},
   "source": [
    "In this notebook, Data Science Tools and Ecosystem are summarized."
   ]
  },
  {
   "cell_type": "markdown",
   "id": "b1d991ce-d4ab-44da-bb46-72923af5f4da",
   "metadata": {},
   "source": [
    "Some of the popular languages that Data Scientists use are:\n",
    "1. Python\n",
    "2. R\n",
    "3. SQL"
   ]
  },
  {
   "cell_type": "markdown",
   "id": "58b80762-d27b-4033-9af8-145c4fb15bde",
   "metadata": {},
   "source": [
    "Some of the commonly used libraries used by Data Scientists include:\n",
    "1. Pandas\n",
    "2. Matplotlib\n",
    "3. SciPy\n",
    "4. NumPy"
   ]
  },
  {
   "cell_type": "markdown",
   "id": "b53e4b40-3adb-4edb-b844-c43b9c253e2a",
   "metadata": {},
   "source": [
    "| **Инструменты Data Science** |\n",
    "|-----------------------------|\n",
    "| Jupyter Notebook            |\n",
    "| Pandas                      |\n",
    "| Scikit-learn                |"
   ]
  },
  {
   "cell_type": "markdown",
   "id": "b0d23794-10fc-4b60-8686-3d783515367f",
   "metadata": {},
   "source": [
    "### Below are a few examples of evaluating arithmetic expressions in Python\n",
    "```python\n",
    "2 + 3           # Сложение\n",
    "7 - 4           # Вычитание\n",
    "5 * 6           # Умножение\n",
    "8 / 2           # Деление\n",
    "2 ** 3          # Возведение в степень\n",
    "10 % 3          # Остаток от деления\n",
    "(2 + 3) * 4     # Скобки изменяют порядок операций"
   ]
  },
  {
   "cell_type": "code",
   "execution_count": 5,
   "id": "5d90cb51-93c9-4396-9358-56337f64773b",
   "metadata": {},
   "outputs": [
    {
     "data": {
      "text/plain": [
       "17"
      ]
     },
     "execution_count": 5,
     "metadata": {},
     "output_type": "execute_result"
    }
   ],
   "source": [
    "# This is a simple arithmetic expression to multiply then add integers\n",
    "(3 * 4) + 5"
   ]
  },
  {
   "cell_type": "code",
   "execution_count": 6,
   "id": "b13d38ba-efc6-4d64-a073-dfd47ddbb4a0",
   "metadata": {},
   "outputs": [
    {
     "data": {
      "text/plain": [
       "3.3333333333333335"
      ]
     },
     "execution_count": 6,
     "metadata": {},
     "output_type": "execute_result"
    }
   ],
   "source": [
    "# This will convert 200 minutes to hours by dividing by 60\n",
    "200 / 60"
   ]
  },
  {
   "cell_type": "markdown",
   "id": "668aa74f-d172-4abf-a830-d62efb28e939",
   "metadata": {},
   "source": [
    "**Objectives:**\n",
    "\n",
    "- List popular languages for Data Science  \n",
    "- Perform basic arithmetic operations in Python  \n",
    "- Convert minutes to hours using code  \n",
    "- Use Markdown cells to create formatted text  \n",
    "- Understand the structure and use of Jupyter Notebooks  "
   ]
  },
  {
   "cell_type": "markdown",
   "id": "27a93aca-3f94-4574-b727-098ba1959e92",
   "metadata": {},
   "source": [
    "## Author\n",
    "\n",
    "Nadezhda Yurlova"
   ]
  },
  {
   "cell_type": "code",
   "execution_count": null,
   "id": "68c41e37-d4cb-4fa6-ba8b-0cbf69ad01f3",
   "metadata": {},
   "outputs": [],
   "source": []
  }
 ],
 "metadata": {
  "kernelspec": {
   "display_name": "Python 3 (ipykernel)",
   "language": "python",
   "name": "python3"
  },
  "language_info": {
   "codemirror_mode": {
    "name": "ipython",
    "version": 3
   },
   "file_extension": ".py",
   "mimetype": "text/x-python",
   "name": "python",
   "nbconvert_exporter": "python",
   "pygments_lexer": "ipython3",
   "version": "3.12.7"
  }
 },
 "nbformat": 4,
 "nbformat_minor": 5
}
